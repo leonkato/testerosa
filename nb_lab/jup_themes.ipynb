{
 "cells": [
  {
   "cell_type": "markdown",
   "metadata": {},
   "source": [
    "See this __[file](https://github.com/dunovank/jupyter-themes?lipi=urn%3Ali%3Apage%3Ad_flagship3_pulse_read%3Bgzwks4nRTNWiUX5aZY8bFw%3D%3D)__ for instructions."
   ]
  },
  {
   "cell_type": "code",
   "execution_count": 1,
   "metadata": {},
   "outputs": [
    {
     "name": "stdout",
     "output_type": "stream",
     "text": [
      "/c/Users/saus/Documents/repos/springboard/solar-cap-1/local\n"
     ]
    }
   ],
   "source": [
    "!pwd"
   ]
  },
  {
   "cell_type": "code",
   "execution_count": 2,
   "metadata": {},
   "outputs": [
    {
     "name": "stdout",
     "output_type": "stream",
     "text": [
      "Collecting jupyterthemes\n",
      "  Downloading jupyterthemes-0.18.2-py2.py3-none-any.whl (6.0MB)\n",
      "Collecting lesscpy>=0.12.0 (from jupyterthemes)\n",
      "  Downloading lesscpy-0.12.0-py2.py3-none-any.whl (48kB)\n",
      "Requirement already satisfied: matplotlib>=1.4.3 in c:\\users\\saus\\anaconda3\\lib\\site-packages (from jupyterthemes)\n",
      "Requirement already satisfied: ipython>=5.4.1 in c:\\users\\saus\\anaconda3\\lib\\site-packages (from jupyterthemes)\n",
      "Requirement already satisfied: jupyter-core in c:\\users\\saus\\anaconda3\\lib\\site-packages (from jupyterthemes)\n",
      "Requirement already satisfied: six in c:\\users\\saus\\anaconda3\\lib\\site-packages (from lesscpy>=0.12.0->jupyterthemes)\n",
      "Requirement already satisfied: ply in c:\\users\\saus\\anaconda3\\lib\\site-packages (from lesscpy>=0.12.0->jupyterthemes)\n",
      "Requirement already satisfied: numpy>=1.7.1 in c:\\users\\saus\\anaconda3\\lib\\site-packages (from matplotlib>=1.4.3->jupyterthemes)\n",
      "Requirement already satisfied: python-dateutil>=2.0 in c:\\users\\saus\\anaconda3\\lib\\site-packages (from matplotlib>=1.4.3->jupyterthemes)\n",
      "Requirement already satisfied: pytz in c:\\users\\saus\\anaconda3\\lib\\site-packages (from matplotlib>=1.4.3->jupyterthemes)\n",
      "Requirement already satisfied: cycler>=0.10 in c:\\users\\saus\\anaconda3\\lib\\site-packages (from matplotlib>=1.4.3->jupyterthemes)\n",
      "Requirement already satisfied: pyparsing!=2.0.4,!=2.1.2,!=2.1.6,>=2.0.1 in c:\\users\\saus\\anaconda3\\lib\\site-packages (from matplotlib>=1.4.3->jupyterthemes)\n",
      "Requirement already satisfied: setuptools>=18.5 in c:\\users\\saus\\anaconda3\\lib\\site-packages (from ipython>=5.4.1->jupyterthemes)\n",
      "Requirement already satisfied: jedi>=0.10 in c:\\users\\saus\\anaconda3\\lib\\site-packages (from ipython>=5.4.1->jupyterthemes)\n",
      "Requirement already satisfied: decorator in c:\\users\\saus\\anaconda3\\lib\\site-packages (from ipython>=5.4.1->jupyterthemes)\n",
      "Requirement already satisfied: pickleshare in c:\\users\\saus\\anaconda3\\lib\\site-packages (from ipython>=5.4.1->jupyterthemes)\n",
      "Requirement already satisfied: simplegeneric>0.8 in c:\\users\\saus\\anaconda3\\lib\\site-packages (from ipython>=5.4.1->jupyterthemes)\n",
      "Requirement already satisfied: traitlets>=4.2 in c:\\users\\saus\\anaconda3\\lib\\site-packages (from ipython>=5.4.1->jupyterthemes)\n",
      "Requirement already satisfied: prompt_toolkit<2.0.0,>=1.0.4 in c:\\users\\saus\\anaconda3\\lib\\site-packages (from ipython>=5.4.1->jupyterthemes)\n",
      "Requirement already satisfied: pygments in c:\\users\\saus\\anaconda3\\lib\\site-packages (from ipython>=5.4.1->jupyterthemes)\n",
      "Requirement already satisfied: colorama in c:\\users\\saus\\anaconda3\\lib\\site-packages (from ipython>=5.4.1->jupyterthemes)\n",
      "Requirement already satisfied: parso==0.1.* in c:\\users\\saus\\anaconda3\\lib\\site-packages (from jedi>=0.10->ipython>=5.4.1->jupyterthemes)\n",
      "Requirement already satisfied: ipython_genutils in c:\\users\\saus\\anaconda3\\lib\\site-packages (from traitlets>=4.2->ipython>=5.4.1->jupyterthemes)\n",
      "Requirement already satisfied: wcwidth in c:\\users\\saus\\anaconda3\\lib\\site-packages (from prompt_toolkit<2.0.0,>=1.0.4->ipython>=5.4.1->jupyterthemes)\n",
      "Installing collected packages: lesscpy, jupyterthemes\n",
      "Successfully installed jupyterthemes-0.18.2 lesscpy-0.12.0\n"
     ]
    }
   ],
   "source": [
    "!pip install jupyterthemes"
   ]
  },
  {
   "cell_type": "code",
   "execution_count": 3,
   "metadata": {},
   "outputs": [
    {
     "name": "stdout",
     "output_type": "stream",
     "text": [
      "Requirement already up-to-date: jupyterthemes in c:\\users\\saus\\anaconda3\\lib\\site-packages\n",
      "Requirement already up-to-date: ipython>=5.4.1 in c:\\users\\saus\\anaconda3\\lib\\site-packages (from jupyterthemes)\n",
      "Collecting matplotlib>=1.4.3 (from jupyterthemes)\n",
      "  Downloading matplotlib-2.1.1-cp36-cp36m-win_amd64.whl (8.7MB)\n",
      "Requirement already up-to-date: jupyter-core in c:\\users\\saus\\anaconda3\\lib\\site-packages (from jupyterthemes)\n",
      "Requirement already up-to-date: lesscpy>=0.12.0 in c:\\users\\saus\\anaconda3\\lib\\site-packages (from jupyterthemes)\n",
      "Collecting setuptools>=18.5 (from ipython>=5.4.1->jupyterthemes)\n",
      "  Downloading setuptools-38.2.4-py2.py3-none-any.whl (489kB)\n",
      "Collecting jedi>=0.10 (from ipython>=5.4.1->jupyterthemes)\n",
      "  Downloading jedi-0.11.1-py2.py3-none-any.whl (250kB)\n",
      "Requirement already up-to-date: decorator in c:\\users\\saus\\anaconda3\\lib\\site-packages (from ipython>=5.4.1->jupyterthemes)\n",
      "Requirement already up-to-date: pickleshare in c:\\users\\saus\\anaconda3\\lib\\site-packages (from ipython>=5.4.1->jupyterthemes)\n",
      "Requirement already up-to-date: simplegeneric>0.8 in c:\\users\\saus\\anaconda3\\lib\\site-packages (from ipython>=5.4.1->jupyterthemes)\n",
      "Requirement already up-to-date: traitlets>=4.2 in c:\\users\\saus\\anaconda3\\lib\\site-packages (from ipython>=5.4.1->jupyterthemes)\n",
      "Requirement already up-to-date: prompt_toolkit<2.0.0,>=1.0.4 in c:\\users\\saus\\anaconda3\\lib\\site-packages (from ipython>=5.4.1->jupyterthemes)\n",
      "Requirement already up-to-date: pygments in c:\\users\\saus\\anaconda3\\lib\\site-packages (from ipython>=5.4.1->jupyterthemes)\n",
      "Requirement already up-to-date: colorama in c:\\users\\saus\\anaconda3\\lib\\site-packages (from ipython>=5.4.1->jupyterthemes)\n",
      "Requirement already up-to-date: numpy>=1.7.1 in c:\\users\\saus\\anaconda3\\lib\\site-packages (from matplotlib>=1.4.3->jupyterthemes)\n",
      "Requirement already up-to-date: cycler>=0.10 in c:\\users\\saus\\anaconda3\\lib\\site-packages (from matplotlib>=1.4.3->jupyterthemes)\n",
      "Requirement already up-to-date: pytz in c:\\users\\saus\\anaconda3\\lib\\site-packages (from matplotlib>=1.4.3->jupyterthemes)\n",
      "Requirement already up-to-date: six>=1.10 in c:\\users\\saus\\anaconda3\\lib\\site-packages (from matplotlib>=1.4.3->jupyterthemes)\n",
      "Requirement already up-to-date: python-dateutil>=2.0 in c:\\users\\saus\\anaconda3\\lib\\site-packages (from matplotlib>=1.4.3->jupyterthemes)\n",
      "Requirement already up-to-date: pyparsing!=2.0.4,!=2.1.2,!=2.1.6,>=2.0.1 in c:\\users\\saus\\anaconda3\\lib\\site-packages (from matplotlib>=1.4.3->jupyterthemes)\n",
      "Requirement already up-to-date: ply in c:\\users\\saus\\anaconda3\\lib\\site-packages (from lesscpy>=0.12.0->jupyterthemes)\n",
      "Requirement already up-to-date: parso==0.1.1 in c:\\users\\saus\\anaconda3\\lib\\site-packages (from jedi>=0.10->ipython>=5.4.1->jupyterthemes)\n",
      "Requirement already up-to-date: ipython_genutils in c:\\users\\saus\\anaconda3\\lib\\site-packages (from traitlets>=4.2->ipython>=5.4.1->jupyterthemes)\n",
      "Requirement already up-to-date: wcwidth in c:\\users\\saus\\anaconda3\\lib\\site-packages (from prompt_toolkit<2.0.0,>=1.0.4->ipython>=5.4.1->jupyterthemes)\n",
      "Installing collected packages: matplotlib, setuptools, jedi\n",
      "  Found existing installation: matplotlib 2.1.0\n",
      "    Uninstalling matplotlib-2.1.0:\n",
      "      Successfully uninstalled matplotlib-2.1.0\n"
     ]
    },
    {
     "name": "stderr",
     "output_type": "stream",
     "text": [
      "Exception:\n",
      "Traceback (most recent call last):\n",
      "  File \"C:\\Users\\saus\\Anaconda3\\lib\\shutil.py\", line 387, in _rmtree_unsafe\n",
      "    os.unlink(fullname)\n",
      "PermissionError: [WinError 5] Access is denied: 'C:\\\\Users\\\\saus\\\\AppData\\\\Local\\\\Temp\\\\pip-_lewxkwc-uninstall\\\\users\\\\saus\\\\anaconda3\\\\lib\\\\site-packages\\\\matplotlib\\\\backends\\\\_backend_agg.cp36-win_amd64.pyd'\n",
      "\n",
      "During handling of the above exception, another exception occurred:\n",
      "\n",
      "Traceback (most recent call last):\n",
      "  File \"C:\\Users\\saus\\Anaconda3\\lib\\site-packages\\pip\\basecommand.py\", line 215, in main\n",
      "    status = self.run(options, args)\n",
      "  File \"C:\\Users\\saus\\Anaconda3\\lib\\site-packages\\pip\\commands\\install.py\", line 342, in run\n",
      "    prefix=options.prefix_path,\n",
      "  File \"C:\\Users\\saus\\Anaconda3\\lib\\site-packages\\pip\\req\\req_set.py\", line 795, in install\n",
      "    requirement.commit_uninstall()\n",
      "  File \"C:\\Users\\saus\\Anaconda3\\lib\\site-packages\\pip\\req\\req_install.py\", line 767, in commit_uninstall\n",
      "    self.uninstalled.commit()\n",
      "  File \"C:\\Users\\saus\\Anaconda3\\lib\\site-packages\\pip\\req\\req_uninstall.py\", line 142, in commit\n",
      "    rmtree(self.save_dir)\n",
      "  File \"C:\\Users\\saus\\Anaconda3\\lib\\site-packages\\pip\\_vendor\\retrying.py\", line 49, in wrapped_f\n",
      "    return Retrying(*dargs, **dkw).call(f, *args, **kw)\n",
      "  File \"C:\\Users\\saus\\Anaconda3\\lib\\site-packages\\pip\\_vendor\\retrying.py\", line 212, in call\n",
      "    raise attempt.get()\n",
      "  File \"C:\\Users\\saus\\Anaconda3\\lib\\site-packages\\pip\\_vendor\\retrying.py\", line 247, in get\n",
      "    six.reraise(self.value[0], self.value[1], self.value[2])\n",
      "  File \"C:\\Users\\saus\\Anaconda3\\lib\\site-packages\\pip\\_vendor\\six.py\", line 686, in reraise\n",
      "    raise value\n",
      "  File \"C:\\Users\\saus\\Anaconda3\\lib\\site-packages\\pip\\_vendor\\retrying.py\", line 200, in call\n",
      "    attempt = Attempt(fn(*args, **kwargs), attempt_number, False)\n",
      "  File \"C:\\Users\\saus\\Anaconda3\\lib\\site-packages\\pip\\utils\\__init__.py\", line 102, in rmtree\n",
      "    onerror=rmtree_errorhandler)\n",
      "  File \"C:\\Users\\saus\\Anaconda3\\lib\\shutil.py\", line 494, in rmtree\n",
      "    return _rmtree_unsafe(path, onerror)\n",
      "  File \"C:\\Users\\saus\\Anaconda3\\lib\\shutil.py\", line 384, in _rmtree_unsafe\n",
      "    _rmtree_unsafe(fullname, onerror)\n",
      "  File \"C:\\Users\\saus\\Anaconda3\\lib\\shutil.py\", line 384, in _rmtree_unsafe\n",
      "    _rmtree_unsafe(fullname, onerror)\n",
      "  File \"C:\\Users\\saus\\Anaconda3\\lib\\shutil.py\", line 384, in _rmtree_unsafe\n",
      "    _rmtree_unsafe(fullname, onerror)\n",
      "  [Previous line repeated 3 more times]\n",
      "  File \"C:\\Users\\saus\\Anaconda3\\lib\\shutil.py\", line 389, in _rmtree_unsafe\n",
      "    onerror(os.unlink, fullname, sys.exc_info())\n",
      "  File \"C:\\Users\\saus\\Anaconda3\\lib\\site-packages\\pip\\utils\\__init__.py\", line 114, in rmtree_errorhandler\n",
      "    func(path)\n",
      "PermissionError: [WinError 5] Access is denied: 'C:\\\\Users\\\\saus\\\\AppData\\\\Local\\\\Temp\\\\pip-_lewxkwc-uninstall\\\\users\\\\saus\\\\anaconda3\\\\lib\\\\site-packages\\\\matplotlib\\\\backends\\\\_backend_agg.cp36-win_amd64.pyd'\n"
     ]
    }
   ],
   "source": [
    "!pip install --upgrade jupyterthemes"
   ]
  },
  {
   "cell_type": "code",
   "execution_count": 4,
   "metadata": {},
   "outputs": [],
   "source": [
    "!jt -t onedork -fs 95 -altp -tfs 11 -nfs 115 -cellw 88% -T"
   ]
  },
  {
   "cell_type": "code",
   "execution_count": 5,
   "metadata": {},
   "outputs": [],
   "source": [
    "!jt -t oceans16 -fs 95 -altp -tfs 11 -nfs 115 -cellw 88% -T"
   ]
  },
  {
   "cell_type": "code",
   "execution_count": 6,
   "metadata": {
    "scrolled": true
   },
   "outputs": [
    {
     "name": "stdout",
     "output_type": "stream",
     "text": [
      "usage: jt [-h] [-l] [-t THEME] [-f MONOFONT] [-fs MONOSIZE] [-nf NBFONT]\n",
      "          [-nfs NBFONTSIZE] [-tf TCFONT] [-tfs TCFONTSIZE] [-dfs DFFONTSIZE]\n",
      "          [-ofs OUTFONTSIZE] [-mathfs MATHFONTSIZE] [-m MARGINS]\n",
      "          [-cursw CURSORWIDTH] [-cursc CURSORCOLOR] [-cellw CELLWIDTH]\n",
      "          [-lineh LINEHEIGHT] [-altp] [-altmd] [-altout] [-P] [-T] [-N] [-vim]\n",
      "          [-r] [-dfonts]\n",
      "\n",
      "optional arguments:\n",
      "  -h, --help            show this help message and exit\n",
      "  -l, --list            list available themes\n",
      "  -t THEME, --theme THEME\n",
      "                        theme name to install\n",
      "  -f MONOFONT, --monofont MONOFONT\n",
      "                        monospace code font\n",
      "  -fs MONOSIZE, --monosize MONOSIZE\n",
      "                        code font-size\n",
      "  -nf NBFONT, --nbfont NBFONT\n",
      "                        notebook font\n",
      "  -nfs NBFONTSIZE, --nbfontsize NBFONTSIZE\n",
      "                        notebook fontsize\n",
      "  -tf TCFONT, --tcfont TCFONT\n",
      "                        txtcell font\n",
      "  -tfs TCFONTSIZE, --tcfontsize TCFONTSIZE\n",
      "                        txtcell fontsize\n",
      "  -dfs DFFONTSIZE, --dffontsize DFFONTSIZE\n",
      "                        pandas dataframe fontsize\n",
      "  -ofs OUTFONTSIZE, --outfontsize OUTFONTSIZE\n",
      "                        output area fontsize\n",
      "  -mathfs MATHFONTSIZE, --mathfontsize MATHFONTSIZE\n",
      "                        mathjax fontsize (in %)\n",
      "  -m MARGINS, --margins MARGINS\n",
      "                        fix margins of main intro page\n",
      "  -cursw CURSORWIDTH, --cursorwidth CURSORWIDTH\n",
      "                        set cursorwidth (px)\n",
      "  -cursc CURSORCOLOR, --cursorcolor CURSORCOLOR\n",
      "                        cursor color (r, b, g, p)\n",
      "  -cellw CELLWIDTH, --cellwidth CELLWIDTH\n",
      "                        set cell width (px or %)\n",
      "  -lineh LINEHEIGHT, --lineheight LINEHEIGHT\n",
      "                        code/text line-height (%)\n",
      "  -altp, --altprompt    alt input prompt style\n",
      "  -altmd, --altmarkdown\n",
      "                        alt markdown cell style\n",
      "  -altout, --altoutput  set output bg color to notebook bg\n",
      "  -P, --hideprompt      hide cell input prompt\n",
      "  -T, --toolbar         make toolbar visible\n",
      "  -N, --nbname          nb name/logo visible\n",
      "  -vim, --vimext        toggle styles for vim\n",
      "  -r, --reset           reset to default theme\n",
      "  -dfonts, --defaultfonts\n",
      "                        force fonts to browser default\n"
     ]
    }
   ],
   "source": [
    "!jt -h"
   ]
  },
  {
   "cell_type": "code",
   "execution_count": 8,
   "metadata": {},
   "outputs": [],
   "source": [
    "!jt -t grade3 -fs 95 -altp -tfs 11 -nfs 115 -cellw 88% -T"
   ]
  },
  {
   "cell_type": "code",
   "execution_count": 18,
   "metadata": {},
   "outputs": [],
   "source": [
    "!jt -t oceans16 -fs 15 -tfs 14 -nfs 14 -ofs 13 -cellw 90% -T"
   ]
  },
  {
   "cell_type": "code",
   "execution_count": 14,
   "metadata": {},
   "outputs": [
    {
     "name": "stdout",
     "output_type": "stream",
     "text": [
      "goodbye, cruel world.\n"
     ]
    }
   ],
   "source": [
    "print('goodbye, cruel world.')"
   ]
  }
 ],
 "metadata": {
  "kernelspec": {
   "display_name": "Python 3",
   "language": "python",
   "name": "python3"
  },
  "language_info": {
   "codemirror_mode": {
    "name": "ipython",
    "version": 3
   },
   "file_extension": ".py",
   "mimetype": "text/x-python",
   "name": "python",
   "nbconvert_exporter": "python",
   "pygments_lexer": "ipython3",
   "version": "3.6.3"
  }
 },
 "nbformat": 4,
 "nbformat_minor": 2
}
